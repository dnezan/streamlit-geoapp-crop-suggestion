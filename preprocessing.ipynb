{
 "cells": [
  {
   "cell_type": "code",
   "execution_count": 1,
   "id": "99cc3247",
   "metadata": {},
   "outputs": [
    {
     "ename": "TypeError",
     "evalue": "only size-1 arrays can be converted to Python scalars",
     "output_type": "error",
     "traceback": [
      "\u001b[1;31m---------------------------------------------------------------------------\u001b[0m",
      "\u001b[1;31mTypeError\u001b[0m                                 Traceback (most recent call last)",
      "Cell \u001b[1;32mIn[1], line 9\u001b[0m\n\u001b[0;32m      6\u001b[0m data \u001b[38;5;241m=\u001b[39m np\u001b[38;5;241m.\u001b[39mloadtxt(asc_file, skiprows\u001b[38;5;241m=\u001b[39m\u001b[38;5;241m6\u001b[39m)  \u001b[38;5;66;03m# Skip header rows if present\u001b[39;00m\n\u001b[0;32m      8\u001b[0m \u001b[38;5;66;03m# Extract metadata\u001b[39;00m\n\u001b[1;32m----> 9\u001b[0m ncols \u001b[38;5;241m=\u001b[39m \u001b[38;5;28;43mint\u001b[39;49m\u001b[43m(\u001b[49m\u001b[43mdata\u001b[49m\u001b[43m[\u001b[49m\u001b[38;5;241;43m0\u001b[39;49m\u001b[43m]\u001b[49m\u001b[43m)\u001b[49m\n\u001b[0;32m     10\u001b[0m nrows \u001b[38;5;241m=\u001b[39m \u001b[38;5;28mint\u001b[39m(data[\u001b[38;5;241m1\u001b[39m])\n\u001b[0;32m     11\u001b[0m xllcorner \u001b[38;5;241m=\u001b[39m \u001b[38;5;28mfloat\u001b[39m(data[\u001b[38;5;241m2\u001b[39m])\n",
      "\u001b[1;31mTypeError\u001b[0m: only size-1 arrays can be converted to Python scalars"
     ]
    }
   ],
   "source": [
    "import numpy as np\n",
    "import matplotlib.pyplot as plt\n",
    "\n",
    "# Read ASC file\n",
    "asc_file = 'C:/Users/Dinesh.Sreekanthan/PycharmProjects/streamlit_geoapp/data/nices_isd_texture_clayey/fclayey.asc'\n",
    "data = np.loadtxt(asc_file, skiprows=6)  # Skip header rows if present\n",
    "\n",
    "# Extract metadata\n",
    "ncols = int(data[0])\n",
    "nrows = int(data[1])\n",
    "xllcorner = float(data[2])\n",
    "yllcorner = float(data[3])\n",
    "cellsize = float(data[4])\n",
    "nodata_value = float(data[5])\n",
    "\n",
    "# Replace nodata_value with NaN\n",
    "data[data == nodata_value] = np.nan\n",
    "\n",
    "# Calculate grid extent\n",
    "x = np.linspace(xllcorner, xllcorner + cellsize * ncols, ncols)\n",
    "y = np.linspace(yllcorner, yllcorner + cellsize * nrows, nrows)\n",
    "X, Y = np.meshgrid(x, y)\n",
    "\n",
    "# Create the map\n",
    "fig, ax = plt.subplots()\n",
    "ax.set_aspect('equal')\n",
    "ax.set_xlim([xllcorner, xllcorner + cellsize * ncols])\n",
    "ax.set_ylim([yllcorner, yllcorner + cellsize * nrows])\n",
    "\n",
    "# Plot the ASC data\n",
    "im = ax.imshow(data, cmap='terrain', extent=[xllcorner, xllcorner + cellsize * ncols, yllcorner, yllcorner + cellsize * nrows])\n",
    "plt.colorbar(im, ax=ax, label='Elevation')\n",
    "\n",
    "# Add map elements\n",
    "ax.set_title('Elevation Map of India')\n",
    "ax.set_xlabel('Longitude')\n",
    "ax.set_ylabel('Latitude')\n",
    "plt.grid(True, linestyle='--', linewidth=0.5, color='gray')\n",
    "\n",
    "# Display the map\n",
    "plt.show()\n"
   ]
  },
  {
   "cell_type": "code",
   "execution_count": 2,
   "id": "3c544756",
   "metadata": {},
   "outputs": [
    {
     "name": "stdout",
     "output_type": "stream",
     "text": [
      "CSV file processed successfully.\n"
     ]
    }
   ],
   "source": [
    "import csv\n",
    "import re\n",
    "\n",
    "input_file = 'C:/Users/Dinesh.Sreekanthan/PycharmProjects/streamlit_geoapp/data/89th Gazette Notification.csv'  # Replace with the path to your input CSV file\n",
    "output_file = 'C:/Users/Dinesh.Sreekanthan/PycharmProjects/streamlit_geoapp/data/data.csv'  # Replace with the desired output CSV file path\n",
    "\n",
    "# Open input and output files\n",
    "with open(input_file, 'r', newline='') as file_in, open(output_file, 'w', newline='') as file_out:\n",
    "    reader = csv.reader(file_in)\n",
    "    writer = csv.writer(file_out)\n",
    "\n",
    "    # Iterate through each row in the input CSV\n",
    "    for row in reader:\n",
    "        # Replace multiple spaces with a single space in each value of the row\n",
    "        cleaned_row = [re.sub(r'\\s+', ' ', value) for value in row]\n",
    "        \n",
    "        # Write the cleaned row to the output CSV\n",
    "        writer.writerow(cleaned_row)\n",
    "\n",
    "print(\"CSV file processed successfully.\")\n"
   ]
  }
 ],
 "metadata": {
  "kernelspec": {
   "display_name": "Python 3 (ipykernel)",
   "language": "python",
   "name": "python3"
  },
  "language_info": {
   "codemirror_mode": {
    "name": "ipython",
    "version": 3
   },
   "file_extension": ".py",
   "mimetype": "text/x-python",
   "name": "python",
   "nbconvert_exporter": "python",
   "pygments_lexer": "ipython3",
   "version": "3.9.16"
  }
 },
 "nbformat": 4,
 "nbformat_minor": 5
}
